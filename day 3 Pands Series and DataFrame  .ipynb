{
 "cells": [
  {
   "cell_type": "code",
   "execution_count": 1,
   "id": "093ce1c7",
   "metadata": {},
   "outputs": [],
   "source": [
    "import pandas as pd"
   ]
  },
  {
   "cell_type": "markdown",
   "id": "5ade88c6",
   "metadata": {},
   "source": [
    "# 1 Working With Series in pandas "
   ]
  },
  {
   "cell_type": "markdown",
   "id": "b0d404da",
   "metadata": {},
   "source": [
    "# Creating an empty Series:"
   ]
  },
  {
   "cell_type": "code",
   "execution_count": 2,
   "id": "a078b7a1",
   "metadata": {},
   "outputs": [
    {
     "data": {
      "text/plain": [
       "Series([], dtype: object)"
      ]
     },
     "execution_count": 2,
     "metadata": {},
     "output_type": "execute_result"
    }
   ],
   "source": [
    "pd.Series()"
   ]
  },
  {
   "cell_type": "markdown",
   "id": "bf080fa5",
   "metadata": {},
   "source": [
    "# Creating series from data"
   ]
  },
  {
   "cell_type": "code",
   "execution_count": 63,
   "id": "bd58b24e",
   "metadata": {},
   "outputs": [],
   "source": [
    "import numpy as np"
   ]
  },
  {
   "cell_type": "code",
   "execution_count": 64,
   "id": "818a2ad4",
   "metadata": {},
   "outputs": [],
   "source": [
    "data = np.array([10,20,30])\n",
    "data2 = np.array(['n','0','o','r'])"
   ]
  },
  {
   "cell_type": "code",
   "execution_count": 130,
   "id": "c130f306",
   "metadata": {},
   "outputs": [],
   "source": [
    "ser1 = pd.Series(data)\n",
    "ser2 = pd.Series(data2)\n",
    "print(ser1)\n",
    "print(ser2)"
   ]
  },
  {
   "cell_type": "markdown",
   "id": "2ef933d7",
   "metadata": {},
   "source": [
    "# Creating a series from array with an index:"
   ]
  },
  {
   "cell_type": "code",
   "execution_count": 6,
   "id": "71299163",
   "metadata": {},
   "outputs": [],
   "source": [
    "mylist = np.array(['noor','john','karan','shazia'])"
   ]
  },
  {
   "cell_type": "code",
   "execution_count": 131,
   "id": "a815c011",
   "metadata": {},
   "outputs": [],
   "source": [
    "# mylist"
   ]
  },
  {
   "cell_type": "code",
   "execution_count": 8,
   "id": "6d49cb4c",
   "metadata": {},
   "outputs": [],
   "source": [
    "ser_mylist  = pd.Series(data=mylist,index=[10,20,30,40])"
   ]
  },
  {
   "cell_type": "code",
   "execution_count": 132,
   "id": "d88b2bed",
   "metadata": {},
   "outputs": [],
   "source": [
    "# ser_mylist"
   ]
  },
  {
   "cell_type": "markdown",
   "id": "74582cf2",
   "metadata": {},
   "source": [
    "# Creating a Series from list"
   ]
  },
  {
   "cell_type": "code",
   "execution_count": 133,
   "id": "8af7209f",
   "metadata": {},
   "outputs": [],
   "source": [
    "sub_ka_list = [10,20,30,40,50]\n",
    "pd.Series(sub_ka_list)"
   ]
  },
  {
   "cell_type": "markdown",
   "id": "72996f23",
   "metadata": {},
   "source": [
    "# Creating a Series from Dictionary"
   ]
  },
  {
   "cell_type": "code",
   "execution_count": 11,
   "id": "bee2d673",
   "metadata": {},
   "outputs": [],
   "source": [
    "mydict = {\n",
    "    'a':'apple',\n",
    "    'b':'ball',\n",
    "    'c':'cat',\n",
    "    'd':'dog'\n",
    "}"
   ]
  },
  {
   "cell_type": "code",
   "execution_count": 134,
   "id": "e0bb892a",
   "metadata": {},
   "outputs": [],
   "source": [
    "pd.Series(mydict)"
   ]
  },
  {
   "cell_type": "markdown",
   "id": "e293f769",
   "metadata": {},
   "source": [
    "# Creating a series from Scalar value:"
   ]
  },
  {
   "cell_type": "code",
   "execution_count": 135,
   "id": "8f55f6e1",
   "metadata": {},
   "outputs": [],
   "source": [
    "pd.Series(10,index=[0,1,2,3,4,5])"
   ]
  },
  {
   "cell_type": "markdown",
   "id": "f95fdacb",
   "metadata": {},
   "source": [
    "# Creating a series with Numpy Functions"
   ]
  },
  {
   "cell_type": "code",
   "execution_count": 136,
   "id": "7daa1911",
   "metadata": {},
   "outputs": [],
   "source": [
    "pd.Series(np.linspace(0,100,10))"
   ]
  },
  {
   "cell_type": "markdown",
   "id": "84a0f554",
   "metadata": {},
   "source": [
    "# Creating a Series using range function:"
   ]
  },
  {
   "cell_type": "code",
   "execution_count": 137,
   "id": "00edb223",
   "metadata": {},
   "outputs": [],
   "source": [
    "pd.Series(range(10))"
   ]
  },
  {
   "cell_type": "markdown",
   "id": "750c65d9",
   "metadata": {},
   "source": [
    "# Creating a Series using for loop and list comprehension:"
   ]
  },
  {
   "cell_type": "code",
   "execution_count": 138,
   "id": "fd5fb515",
   "metadata": {},
   "outputs": [],
   "source": [
    "pd.Series(range(1,5),index=[x for x in 'abcd'])"
   ]
  },
  {
   "cell_type": "markdown",
   "id": "b76f86e7",
   "metadata": {},
   "source": [
    "# Creating a Series using mathematical expressions:"
   ]
  },
  {
   "cell_type": "code",
   "execution_count": 139,
   "id": "145d687d",
   "metadata": {},
   "outputs": [],
   "source": [
    "ser = np.arange(10,15)\n",
    "pd.Series(data=ser*5)"
   ]
  },
  {
   "cell_type": "markdown",
   "id": "675c4bed",
   "metadata": {},
   "source": [
    "# Series Working with Real Dataset"
   ]
  },
  {
   "cell_type": "code",
   "execution_count": 70,
   "id": "cfa544f6",
   "metadata": {},
   "outputs": [],
   "source": [
    "df = pd.read_excel('VariableWithIDs.xlsx')"
   ]
  },
  {
   "cell_type": "code",
   "execution_count": 73,
   "id": "5be8c0f4",
   "metadata": {},
   "outputs": [],
   "source": [
    "var_series = df['Crop Name']"
   ]
  },
  {
   "cell_type": "code",
   "execution_count": 140,
   "id": "9795c3a6",
   "metadata": {},
   "outputs": [],
   "source": [
    "# Basic operations on Series\n",
    "var_series.head()  # Display the first few elements of the Series"
   ]
  },
  {
   "cell_type": "code",
   "execution_count": 145,
   "id": "c1ed206a",
   "metadata": {},
   "outputs": [],
   "source": [
    "var_series.describe() # Generate descriptive statistics of the Series"
   ]
  },
  {
   "cell_type": "code",
   "execution_count": 142,
   "id": "f4c26174",
   "metadata": {},
   "outputs": [],
   "source": [
    "var_series.value_counts()  # Count the occurrences of unique values in the Series"
   ]
  },
  {
   "cell_type": "code",
   "execution_count": 146,
   "id": "8083fecb",
   "metadata": {},
   "outputs": [],
   "source": [
    "# Filtering data using Series\n",
    "# var_series[var_series == 'Sugarcane']  # Filter values "
   ]
  },
  {
   "cell_type": "code",
   "execution_count": 147,
   "id": "68e060cf",
   "metadata": {},
   "outputs": [],
   "source": [
    "# Applying functions to Series\n",
    "def custom_function():\n",
    "    # Apply some custom logic\n",
    "    for var in var_series:\n",
    "        print(var)\n",
    "\n",
    "custom_function()"
   ]
  },
  {
   "cell_type": "code",
   "execution_count": 148,
   "id": "ac3eeec5",
   "metadata": {},
   "outputs": [],
   "source": [
    "# Sorting Series\n",
    "var = pd.Series(data=[1,2,3,4,5])\n",
    "# var.sort_values(ascending=False)  # Sort the Series in descending order"
   ]
  },
  {
   "cell_type": "code",
   "execution_count": 149,
   "id": "ac9f731f",
   "metadata": {},
   "outputs": [],
   "source": [
    "# drop nan values\n",
    "# var_series.dropna()"
   ]
  },
  {
   "cell_type": "code",
   "execution_count": 150,
   "id": "75e9a592",
   "metadata": {},
   "outputs": [],
   "source": [
    "# Modifying Series values\n",
    "var = pd.Series([1,2,3])\n",
    "var.replace({1:10,2:20})"
   ]
  },
  {
   "cell_type": "code",
   "execution_count": 151,
   "id": "88a50438",
   "metadata": {},
   "outputs": [],
   "source": [
    "# Concatenating Series\n",
    "series1 = pd.Series([1, 2, 3])\n",
    "series2 = pd.Series([4, 5, 6])\n",
    "pd.concat([series1, series2])  # Concatenate two Series"
   ]
  },
  {
   "cell_type": "code",
   "execution_count": 152,
   "id": "2e0b5d4f",
   "metadata": {},
   "outputs": [],
   "source": [
    "# Other useful Series functions\n",
    "column_series = pd.Series([10,2,3,4,5])\n",
    "print(\" unique :\\n\",column_series.unique())  # Get unique values in the Series\n",
    "print(\" largest val :\\n \", column_series.nlargest(2))  # Get the 5 largest values in the Series\n",
    "print(\" max index : \\n \",column_series.idxmax()) # Get the index of the maximum value in the Series"
   ]
  },
  {
   "cell_type": "markdown",
   "id": "067a8a26",
   "metadata": {},
   "source": [
    "# 2 Working With Dataframe"
   ]
  },
  {
   "cell_type": "markdown",
   "id": "7305fa5f",
   "metadata": {},
   "source": [
    "# Creating a Pandas DataFrame"
   ]
  },
  {
   "cell_type": "code",
   "execution_count": 30,
   "id": "f1614fd4",
   "metadata": {},
   "outputs": [],
   "source": [
    "mydata = ['a','b','c','d','e','f']"
   ]
  },
  {
   "cell_type": "code",
   "execution_count": 153,
   "id": "18b97904",
   "metadata": {},
   "outputs": [],
   "source": [
    "pd.DataFrame(data=mydata,columns=['letters'])"
   ]
  },
  {
   "cell_type": "markdown",
   "id": "258dbb3d",
   "metadata": {},
   "source": [
    "# Creating DataFrame from dict of ndarray/lists:"
   ]
  },
  {
   "cell_type": "code",
   "execution_count": 154,
   "id": "79e85f5c",
   "metadata": {},
   "outputs": [],
   "source": [
    "mydict = {\n",
    "    'name':['noor','raza','shazia'],\n",
    "    'Age':[10,20,30],\n",
    "    'gender':['male','male','female']\n",
    "}\n",
    "pd.DataFrame(mydict)"
   ]
  },
  {
   "cell_type": "markdown",
   "id": "b7d02a5d",
   "metadata": {},
   "source": [
    "# Working with real Dataset"
   ]
  },
  {
   "cell_type": "code",
   "execution_count": null,
   "id": "62012281",
   "metadata": {},
   "outputs": [],
   "source": []
  },
  {
   "cell_type": "code",
   "execution_count": 155,
   "id": "da6eb1b6",
   "metadata": {},
   "outputs": [],
   "source": [
    "# Accessing columns in DataFrame\n",
    "df['Crop Health']  # Extract a single column as a Series"
   ]
  },
  {
   "cell_type": "code",
   "execution_count": 156,
   "id": "49fee2c7",
   "metadata": {},
   "outputs": [],
   "source": [
    "df['Crop Name'].tolist()  # Convert a column to a list"
   ]
  },
  {
   "cell_type": "code",
   "execution_count": 157,
   "id": "4070dbdf",
   "metadata": {},
   "outputs": [],
   "source": [
    "df[['Field level_ID', 'Field level']]  # Extract a subset of columns as a new DataFrame"
   ]
  },
  {
   "cell_type": "code",
   "execution_count": 158,
   "id": "1dc2b116",
   "metadata": {},
   "outputs": [],
   "source": [
    "# Basic operations on DataFrame\n",
    "# df.shape # Get the dimensions of the DataFrame\n",
    "# df.describe()  # Generate descriptive statistics of the DataFrame"
   ]
  },
  {
   "cell_type": "code",
   "execution_count": 159,
   "id": "68f6e847",
   "metadata": {},
   "outputs": [],
   "source": [
    "# df.info()  # Get information about the DataFrame"
   ]
  },
  {
   "cell_type": "code",
   "execution_count": null,
   "id": "97945e3b",
   "metadata": {},
   "outputs": [],
   "source": []
  },
  {
   "cell_type": "code",
   "execution_count": 160,
   "id": "2d8270dc",
   "metadata": {},
   "outputs": [],
   "source": [
    "# Filtering data using DataFrame\n",
    "df[df['Crop Name'] == 'Maize']  # Filter rows based on a condition"
   ]
  },
  {
   "cell_type": "code",
   "execution_count": 116,
   "id": "9cbada8c",
   "metadata": {},
   "outputs": [],
   "source": [
    "# Modifying DataFrame\n",
    "df['new_column'] = df['Crop Name']+ \" \" + df['Crop Health']  # Create a new column based on existing columns"
   ]
  },
  {
   "cell_type": "code",
   "execution_count": null,
   "id": "160067f1",
   "metadata": {},
   "outputs": [],
   "source": []
  },
  {
   "cell_type": "code",
   "execution_count": 118,
   "id": "62ea7760",
   "metadata": {},
   "outputs": [],
   "source": [
    "df.drop('Crop Name_ID', axis=1, inplace=True)  # Drop a column from the DataFrame"
   ]
  },
  {
   "cell_type": "code",
   "execution_count": null,
   "id": "3739c86c",
   "metadata": {},
   "outputs": [],
   "source": []
  },
  {
   "cell_type": "code",
   "execution_count": 121,
   "id": "b4bd5518",
   "metadata": {},
   "outputs": [],
   "source": [
    "# Sorting DataFrame\n",
    "sorted_df = df.sort_values(by='Crop Name', ascending=False) "
   ]
  },
  {
   "cell_type": "code",
   "execution_count": 123,
   "id": "240fe0ed",
   "metadata": {},
   "outputs": [
    {
     "data": {
      "text/plain": [
       "'Rice'"
      ]
     },
     "execution_count": 123,
     "metadata": {},
     "output_type": "execute_result"
    }
   ],
   "source": [
    "# Accessing values in DataFrame\n",
    "df.at[1, 'Crop Name']  # Access a specific value by row index and column name"
   ]
  },
  {
   "cell_type": "code",
   "execution_count": 161,
   "id": "9e8350c6",
   "metadata": {},
   "outputs": [],
   "source": [
    "# # Iterating over DataFrame\n",
    "for index, row in df.iterrows():\n",
    "    # Iterate over each row in the DataFrame\n",
    "    print(f\"Index: {index}, Row: {row}\")"
   ]
  },
  {
   "cell_type": "code",
   "execution_count": 162,
   "id": "c654bd3c",
   "metadata": {},
   "outputs": [],
   "source": [
    "# Other useful DataFrame functions\n",
    "df.isnull().sum()# Check for missing values in the DataFrame"
   ]
  },
  {
   "cell_type": "code",
   "execution_count": 126,
   "id": "ec902f10",
   "metadata": {},
   "outputs": [],
   "source": [
    "df.dropna(inplace=True)"
   ]
  },
  {
   "cell_type": "code",
   "execution_count": 163,
   "id": "1bf36a1b",
   "metadata": {},
   "outputs": [],
   "source": [
    "df.isnull().sum()"
   ]
  },
  {
   "cell_type": "code",
   "execution_count": null,
   "id": "a9ea20fc",
   "metadata": {},
   "outputs": [],
   "source": []
  },
  {
   "cell_type": "code",
   "execution_count": 164,
   "id": "d2c40831",
   "metadata": {},
   "outputs": [],
   "source": [
    "df.duplicated().sum() # Remove duplicate rows from the DataFrame"
   ]
  },
  {
   "cell_type": "code",
   "execution_count": 165,
   "id": "be00e455",
   "metadata": {},
   "outputs": [],
   "source": [
    "df.drop_duplicates()"
   ]
  },
  {
   "cell_type": "code",
   "execution_count": 166,
   "id": "755bc078",
   "metadata": {},
   "outputs": [],
   "source": [
    "import pandas as pd\n",
    "df = pd.read_excel('VariableWithIDs.xlsx')"
   ]
  },
  {
   "cell_type": "code",
   "execution_count": 167,
   "id": "0ef31281",
   "metadata": {},
   "outputs": [
    {
     "data": {
      "text/html": [
       "<div>\n",
       "<style scoped>\n",
       "    .dataframe tbody tr th:only-of-type {\n",
       "        vertical-align: middle;\n",
       "    }\n",
       "\n",
       "    .dataframe tbody tr th {\n",
       "        vertical-align: top;\n",
       "    }\n",
       "\n",
       "    .dataframe thead th {\n",
       "        text-align: right;\n",
       "    }\n",
       "</style>\n",
       "<table border=\"1\" class=\"dataframe\">\n",
       "  <thead>\n",
       "    <tr style=\"text-align: right;\">\n",
       "      <th></th>\n",
       "      <th>Crop Name_ID</th>\n",
       "      <th>Crop Name</th>\n",
       "      <th>Cotton Varity type_ID</th>\n",
       "      <th>Cotton Varity type</th>\n",
       "      <th>Crop Seed Variety_ID</th>\n",
       "      <th>Crop Seed Variety</th>\n",
       "      <th>Field level_ID</th>\n",
       "      <th>Field level</th>\n",
       "      <th>Crop Health_ID</th>\n",
       "      <th>Crop Health</th>\n",
       "      <th>...</th>\n",
       "      <th>Soil Type_ID</th>\n",
       "      <th>Soil Type</th>\n",
       "      <th>Unnamed: 34</th>\n",
       "      <th>Landuse_ID</th>\n",
       "      <th>Landuse</th>\n",
       "      <th>Type</th>\n",
       "      <th>Unnamed: 38</th>\n",
       "      <th>Landuse.1</th>\n",
       "      <th>Type.1</th>\n",
       "      <th>Type_ID</th>\n",
       "    </tr>\n",
       "  </thead>\n",
       "  <tbody>\n",
       "    <tr>\n",
       "      <th>0</th>\n",
       "      <td>1.0</td>\n",
       "      <td>Sugarcane</td>\n",
       "      <td>1.0</td>\n",
       "      <td>Desi</td>\n",
       "      <td>1</td>\n",
       "      <td>MNH-1050</td>\n",
       "      <td>1.0</td>\n",
       "      <td>Levelled</td>\n",
       "      <td>1.0</td>\n",
       "      <td>Healthy</td>\n",
       "      <td>...</td>\n",
       "      <td>1.0</td>\n",
       "      <td>Clay soil</td>\n",
       "      <td>NaN</td>\n",
       "      <td>1.0</td>\n",
       "      <td>Builtup</td>\n",
       "      <td>Residential</td>\n",
       "      <td>NaN</td>\n",
       "      <td>Sugarcane</td>\n",
       "      <td>Agricultural</td>\n",
       "      <td>NaN</td>\n",
       "    </tr>\n",
       "  </tbody>\n",
       "</table>\n",
       "<p>1 rows × 42 columns</p>\n",
       "</div>"
      ],
      "text/plain": [
       "   Crop Name_ID  Crop Name  Cotton Varity type_ID Cotton Varity type  \\\n",
       "0           1.0  Sugarcane                    1.0               Desi   \n",
       "\n",
       "   Crop Seed Variety_ID Crop Seed Variety  Field level_ID Field level  \\\n",
       "0                     1          MNH-1050             1.0    Levelled   \n",
       "\n",
       "   Crop Health_ID Crop Health  ...  Soil Type_ID  Soil Type  Unnamed: 34  \\\n",
       "0             1.0     Healthy  ...           1.0  Clay soil          NaN   \n",
       "\n",
       "  Landuse_ID  Landuse         Type  Unnamed: 38  Landuse.1        Type.1  \\\n",
       "0        1.0  Builtup  Residential          NaN  Sugarcane  Agricultural   \n",
       "\n",
       "  Type_ID  \n",
       "0     NaN  \n",
       "\n",
       "[1 rows x 42 columns]"
      ]
     },
     "execution_count": 167,
     "metadata": {},
     "output_type": "execute_result"
    }
   ],
   "source": [
    "df.head(1)"
   ]
  },
  {
   "cell_type": "code",
   "execution_count": 170,
   "id": "20bf3801",
   "metadata": {},
   "outputs": [
    {
     "name": "stdout",
     "output_type": "stream",
     "text": [
      "Maize\n"
     ]
    },
    {
     "data": {
      "text/plain": [
       "0     None\n",
       "1     None\n",
       "2     None\n",
       "3     None\n",
       "4     None\n",
       "      ... \n",
       "65    None\n",
       "66    None\n",
       "67    None\n",
       "68    None\n",
       "69    None\n",
       "Name: Crop Name, Length: 70, dtype: object"
      ]
     },
     "execution_count": 170,
     "metadata": {},
     "output_type": "execute_result"
    }
   ],
   "source": [
    "def custome_fun(a):\n",
    "    if a == 'Maize':\n",
    "        print(a)\n",
    "\n",
    "df['Crop Name'].apply(lambda x: custome_fun(x))"
   ]
  },
  {
   "cell_type": "code",
   "execution_count": null,
   "id": "c6864b5b",
   "metadata": {},
   "outputs": [],
   "source": []
  }
 ],
 "metadata": {
  "kernelspec": {
   "display_name": "Python 3 (ipykernel)",
   "language": "python",
   "name": "python3"
  },
  "language_info": {
   "codemirror_mode": {
    "name": "ipython",
    "version": 3
   },
   "file_extension": ".py",
   "mimetype": "text/x-python",
   "name": "python",
   "nbconvert_exporter": "python",
   "pygments_lexer": "ipython3",
   "version": "3.9.12"
  }
 },
 "nbformat": 4,
 "nbformat_minor": 5
}
