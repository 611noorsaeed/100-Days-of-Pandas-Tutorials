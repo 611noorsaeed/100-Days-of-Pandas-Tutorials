{
 "cells": [
  {
   "cell_type": "code",
   "execution_count": 7,
   "id": "ae3819c4",
   "metadata": {},
   "outputs": [],
   "source": [
    "import pandas as pd"
   ]
  },
  {
   "cell_type": "code",
   "execution_count": 8,
   "id": "c09841f4",
   "metadata": {},
   "outputs": [],
   "source": [
    "df = pd.read_csv(\"titanic.csv\")"
   ]
  },
  {
   "cell_type": "code",
   "execution_count": 9,
   "id": "264fadf3",
   "metadata": {
    "scrolled": true
   },
   "outputs": [
    {
     "data": {
      "text/html": [
       "<div>\n",
       "<style scoped>\n",
       "    .dataframe tbody tr th:only-of-type {\n",
       "        vertical-align: middle;\n",
       "    }\n",
       "\n",
       "    .dataframe tbody tr th {\n",
       "        vertical-align: top;\n",
       "    }\n",
       "\n",
       "    .dataframe thead th {\n",
       "        text-align: right;\n",
       "    }\n",
       "</style>\n",
       "<table border=\"1\" class=\"dataframe\">\n",
       "  <thead>\n",
       "    <tr style=\"text-align: right;\">\n",
       "      <th></th>\n",
       "      <th>PassengerId</th>\n",
       "      <th>Survived</th>\n",
       "      <th>Pclass</th>\n",
       "      <th>Name</th>\n",
       "      <th>Sex</th>\n",
       "      <th>Age</th>\n",
       "      <th>SibSp</th>\n",
       "      <th>Parch</th>\n",
       "      <th>Ticket</th>\n",
       "      <th>Fare</th>\n",
       "      <th>Cabin</th>\n",
       "      <th>Embarked</th>\n",
       "    </tr>\n",
       "  </thead>\n",
       "  <tbody>\n",
       "    <tr>\n",
       "      <th>0</th>\n",
       "      <td>892</td>\n",
       "      <td>0</td>\n",
       "      <td>3</td>\n",
       "      <td>Kelly, Mr. James</td>\n",
       "      <td>male</td>\n",
       "      <td>34.5</td>\n",
       "      <td>0</td>\n",
       "      <td>0</td>\n",
       "      <td>330911</td>\n",
       "      <td>7.8292</td>\n",
       "      <td>NaN</td>\n",
       "      <td>Q</td>\n",
       "    </tr>\n",
       "    <tr>\n",
       "      <th>1</th>\n",
       "      <td>893</td>\n",
       "      <td>1</td>\n",
       "      <td>3</td>\n",
       "      <td>Wilkes, Mrs. James (Ellen Needs)</td>\n",
       "      <td>female</td>\n",
       "      <td>47.0</td>\n",
       "      <td>1</td>\n",
       "      <td>0</td>\n",
       "      <td>363272</td>\n",
       "      <td>7.0000</td>\n",
       "      <td>NaN</td>\n",
       "      <td>S</td>\n",
       "    </tr>\n",
       "    <tr>\n",
       "      <th>2</th>\n",
       "      <td>894</td>\n",
       "      <td>0</td>\n",
       "      <td>2</td>\n",
       "      <td>Myles, Mr. Thomas Francis</td>\n",
       "      <td>male</td>\n",
       "      <td>62.0</td>\n",
       "      <td>0</td>\n",
       "      <td>0</td>\n",
       "      <td>240276</td>\n",
       "      <td>9.6875</td>\n",
       "      <td>NaN</td>\n",
       "      <td>Q</td>\n",
       "    </tr>\n",
       "  </tbody>\n",
       "</table>\n",
       "</div>"
      ],
      "text/plain": [
       "   PassengerId  Survived  Pclass                              Name     Sex  \\\n",
       "0          892         0       3                  Kelly, Mr. James    male   \n",
       "1          893         1       3  Wilkes, Mrs. James (Ellen Needs)  female   \n",
       "2          894         0       2         Myles, Mr. Thomas Francis    male   \n",
       "\n",
       "    Age  SibSp  Parch  Ticket    Fare Cabin Embarked  \n",
       "0  34.5      0      0  330911  7.8292   NaN        Q  \n",
       "1  47.0      1      0  363272  7.0000   NaN        S  \n",
       "2  62.0      0      0  240276  9.6875   NaN        Q  "
      ]
     },
     "execution_count": 9,
     "metadata": {},
     "output_type": "execute_result"
    }
   ],
   "source": [
    "df.head(3)"
   ]
  },
  {
   "cell_type": "markdown",
   "id": "e8002bf9",
   "metadata": {},
   "source": [
    "# Calculate Survival Rate by Passenger Class:# Example 1: Single aggregation"
   ]
  },
  {
   "cell_type": "code",
   "execution_count": 10,
   "id": "9a505147",
   "metadata": {},
   "outputs": [
    {
     "data": {
      "text/plain": [
       "Pclass\n",
       "1    0.467290\n",
       "2    0.322581\n",
       "3    0.330275\n",
       "Name: Survived, dtype: float64"
      ]
     },
     "execution_count": 10,
     "metadata": {},
     "output_type": "execute_result"
    }
   ],
   "source": [
    "df.groupby(\"Pclass\")['Survived'].mean()"
   ]
  },
  {
   "cell_type": "markdown",
   "id": "7fc903c9",
   "metadata": {},
   "source": [
    "# Calculate average age by passenger class and gender: # Example 2: Multi aggregation"
   ]
  },
  {
   "cell_type": "code",
   "execution_count": 11,
   "id": "fee7804a",
   "metadata": {},
   "outputs": [
    {
     "data": {
      "text/plain": [
       "Pclass  Sex   \n",
       "1       female    41.333333\n",
       "        male      40.520000\n",
       "2       female    24.376552\n",
       "        male      30.940678\n",
       "3       female    23.073400\n",
       "        male      24.525104\n",
       "Name: Age, dtype: float64"
      ]
     },
     "execution_count": 11,
     "metadata": {},
     "output_type": "execute_result"
    }
   ],
   "source": [
    "df.groupby(['Pclass','Sex'])['Age'].mean()"
   ]
  },
  {
   "cell_type": "markdown",
   "id": "cb251983",
   "metadata": {},
   "source": [
    "# Count Passengers by Embarked Port:"
   ]
  },
  {
   "cell_type": "code",
   "execution_count": 12,
   "id": "5e82e27b",
   "metadata": {},
   "outputs": [
    {
     "data": {
      "text/plain": [
       "Embarked\n",
       "C    102\n",
       "Q     46\n",
       "S    270\n",
       "Name: PassengerId, dtype: int64"
      ]
     },
     "execution_count": 12,
     "metadata": {},
     "output_type": "execute_result"
    }
   ],
   "source": [
    "df.groupby(\"Embarked\")['PassengerId'].count()"
   ]
  },
  {
   "cell_type": "markdown",
   "id": "af73e2ef",
   "metadata": {},
   "source": [
    "# Find the oldest and youngest passengers in each passenger class"
   ]
  },
  {
   "cell_type": "code",
   "execution_count": 13,
   "id": "6e699153",
   "metadata": {
    "scrolled": true
   },
   "outputs": [
    {
     "data": {
      "text/html": [
       "<div>\n",
       "<style scoped>\n",
       "    .dataframe tbody tr th:only-of-type {\n",
       "        vertical-align: middle;\n",
       "    }\n",
       "\n",
       "    .dataframe tbody tr th {\n",
       "        vertical-align: top;\n",
       "    }\n",
       "\n",
       "    .dataframe thead th {\n",
       "        text-align: right;\n",
       "    }\n",
       "</style>\n",
       "<table border=\"1\" class=\"dataframe\">\n",
       "  <thead>\n",
       "    <tr style=\"text-align: right;\">\n",
       "      <th></th>\n",
       "      <th>max</th>\n",
       "      <th>min</th>\n",
       "    </tr>\n",
       "    <tr>\n",
       "      <th>Pclass</th>\n",
       "      <th></th>\n",
       "      <th></th>\n",
       "    </tr>\n",
       "  </thead>\n",
       "  <tbody>\n",
       "    <tr>\n",
       "      <th>1</th>\n",
       "      <td>76.0</td>\n",
       "      <td>6.00</td>\n",
       "    </tr>\n",
       "    <tr>\n",
       "      <th>2</th>\n",
       "      <td>63.0</td>\n",
       "      <td>0.92</td>\n",
       "    </tr>\n",
       "    <tr>\n",
       "      <th>3</th>\n",
       "      <td>60.5</td>\n",
       "      <td>0.17</td>\n",
       "    </tr>\n",
       "  </tbody>\n",
       "</table>\n",
       "</div>"
      ],
      "text/plain": [
       "         max   min\n",
       "Pclass            \n",
       "1       76.0  6.00\n",
       "2       63.0  0.92\n",
       "3       60.5  0.17"
      ]
     },
     "execution_count": 13,
     "metadata": {},
     "output_type": "execute_result"
    }
   ],
   "source": [
    "df.groupby(\"Pclass\")['Age'].agg(['max','min'])"
   ]
  },
  {
   "cell_type": "markdown",
   "id": "38ccdc4d",
   "metadata": {},
   "source": [
    "# Calculate total fare and average age for each embarked port"
   ]
  },
  {
   "cell_type": "code",
   "execution_count": 14,
   "id": "9dc31169",
   "metadata": {},
   "outputs": [
    {
     "data": {
      "text/html": [
       "<div>\n",
       "<style scoped>\n",
       "    .dataframe tbody tr th:only-of-type {\n",
       "        vertical-align: middle;\n",
       "    }\n",
       "\n",
       "    .dataframe tbody tr th {\n",
       "        vertical-align: top;\n",
       "    }\n",
       "\n",
       "    .dataframe thead th {\n",
       "        text-align: right;\n",
       "    }\n",
       "</style>\n",
       "<table border=\"1\" class=\"dataframe\">\n",
       "  <thead>\n",
       "    <tr style=\"text-align: right;\">\n",
       "      <th></th>\n",
       "      <th>Fare</th>\n",
       "      <th>Age</th>\n",
       "    </tr>\n",
       "    <tr>\n",
       "      <th>Embarked</th>\n",
       "      <th></th>\n",
       "      <th></th>\n",
       "    </tr>\n",
       "  </thead>\n",
       "  <tbody>\n",
       "    <tr>\n",
       "      <th>C</th>\n",
       "      <td>6758.4960</td>\n",
       "      <td>34.737805</td>\n",
       "    </tr>\n",
       "    <tr>\n",
       "      <th>Q</th>\n",
       "      <td>504.0542</td>\n",
       "      <td>29.318182</td>\n",
       "    </tr>\n",
       "    <tr>\n",
       "      <th>S</th>\n",
       "      <td>7593.9874</td>\n",
       "      <td>28.758772</td>\n",
       "    </tr>\n",
       "  </tbody>\n",
       "</table>\n",
       "</div>"
      ],
      "text/plain": [
       "               Fare        Age\n",
       "Embarked                      \n",
       "C         6758.4960  34.737805\n",
       "Q          504.0542  29.318182\n",
       "S         7593.9874  28.758772"
      ]
     },
     "execution_count": 14,
     "metadata": {},
     "output_type": "execute_result"
    }
   ],
   "source": [
    "df.groupby(\"Embarked\").agg({'Fare':'sum','Age':'mean'})"
   ]
  },
  {
   "cell_type": "markdown",
   "id": "dc617985",
   "metadata": {},
   "source": [
    "# Find the Most Common Embarked Port for each Passenger Class:"
   ]
  },
  {
   "cell_type": "code",
   "execution_count": 16,
   "id": "7fe2fe36",
   "metadata": {},
   "outputs": [
    {
     "data": {
      "text/plain": [
       "Pclass\n",
       "1    C\n",
       "2    S\n",
       "3    S\n",
       "Name: Embarked, dtype: object"
      ]
     },
     "execution_count": 16,
     "metadata": {},
     "output_type": "execute_result"
    }
   ],
   "source": [
    "df.groupby(\"Pclass\")['Embarked'].apply(lambda x: x.mode().iloc[0])"
   ]
  },
  {
   "cell_type": "markdown",
   "id": "e8b25aac",
   "metadata": {},
   "source": [
    "# Calculate the Age Range (Max - Min) for each Title (Mr, Mrs, etc.):"
   ]
  },
  {
   "cell_type": "code",
   "execution_count": 13,
   "id": "a5cfec5b",
   "metadata": {},
   "outputs": [],
   "source": [
    "df['title'] = df['Name'].str.extract('([A-Za-z]+)\\.')"
   ]
  },
  {
   "cell_type": "code",
   "execution_count": 14,
   "id": "4b0a83ee",
   "metadata": {},
   "outputs": [
    {
     "data": {
      "text/plain": [
       "title\n",
       "Col        6.00\n",
       "Dona       0.00\n",
       "Dr         0.00\n",
       "Master    14.17\n",
       "Miss      44.83\n",
       "Mr        53.00\n",
       "Mrs       60.00\n",
       "Ms          NaN\n",
       "Rev       11.00\n",
       "Name: Age, dtype: float64"
      ]
     },
     "execution_count": 14,
     "metadata": {},
     "output_type": "execute_result"
    }
   ],
   "source": [
    "df.groupby(\"title\")['Age'].agg(lambda x:x.max() - x.min())"
   ]
  },
  {
   "cell_type": "markdown",
   "id": "2e9af46e",
   "metadata": {},
   "source": [
    "# Count the Number of Passengers Survived and Died for each Passenger Class and Embarked Port:"
   ]
  },
  {
   "cell_type": "code",
   "execution_count": 15,
   "id": "6bd46829",
   "metadata": {},
   "outputs": [
    {
     "data": {
      "text/plain": [
       "Pclass  Embarked  Survived\n",
       "1       C         0            28\n",
       "                  1            28\n",
       "        Q         1             1\n",
       "        S         0            29\n",
       "                  1            21\n",
       "2       C         0             7\n",
       "                  1             4\n",
       "        Q         0             4\n",
       "        S         0            52\n",
       "                  1            26\n",
       "3       C         0            27\n",
       "                  1             8\n",
       "        Q         0            18\n",
       "                  1            23\n",
       "        S         0           101\n",
       "                  1            41\n",
       "Name: PassengerId, dtype: int64"
      ]
     },
     "execution_count": 15,
     "metadata": {},
     "output_type": "execute_result"
    }
   ],
   "source": [
    "df.groupby(['Pclass','Embarked','Survived'])['PassengerId'].count()"
   ]
  },
  {
   "cell_type": "markdown",
   "id": "9ba3b749",
   "metadata": {},
   "source": [
    "# Calculate the Fare Range (Max - Min) for each Passenger Class and Gender:"
   ]
  },
  {
   "cell_type": "code",
   "execution_count": 16,
   "id": "e2ded754",
   "metadata": {},
   "outputs": [
    {
     "data": {
      "text/plain": [
       "Pclass  Sex   \n",
       "1       female    486.6292\n",
       "        male      262.3750\n",
       "2       female     54.5000\n",
       "        male       63.8125\n",
       "3       female     62.6000\n",
       "        male       66.3792\n",
       "Name: Fare, dtype: float64"
      ]
     },
     "execution_count": 16,
     "metadata": {},
     "output_type": "execute_result"
    }
   ],
   "source": [
    "df.groupby(['Pclass','Sex'])['Fare'].agg(lambda x: x.max() - x.min() )"
   ]
  },
  {
   "cell_type": "markdown",
   "id": "6670162f",
   "metadata": {},
   "source": [
    "# Group Passengers by Age Range and Calculate the Survival Rate:"
   ]
  },
  {
   "cell_type": "code",
   "execution_count": 17,
   "id": "284e7fd3",
   "metadata": {},
   "outputs": [],
   "source": [
    "# Group passengers by age range and calculate survival rate\n",
    "age_bins = [0, 18, 30, 50, 100]\n",
    "age_labels = ['0-18', '19-30', '31-50', '51+']\n",
    "df['AgeRange'] = pd.cut(df['Age'], bins=age_bins, labels=age_labels)"
   ]
  },
  {
   "cell_type": "code",
   "execution_count": 19,
   "id": "d2c0ef18",
   "metadata": {},
   "outputs": [
    {
     "data": {
      "text/plain": [
       "AgeRange\n",
       "0-18     44.444444\n",
       "19-30    36.301370\n",
       "31-50    34.653465\n",
       "51+      48.387097\n",
       "Name: Survived, dtype: float64"
      ]
     },
     "execution_count": 19,
     "metadata": {},
     "output_type": "execute_result"
    }
   ],
   "source": [
    "df.groupby('AgeRange')['Survived'].mean() * 100"
   ]
  },
  {
   "cell_type": "markdown",
   "id": "96fb6f07",
   "metadata": {},
   "source": [
    "# Calculate the Cumulative Survival Rate over Time:"
   ]
  },
  {
   "cell_type": "code",
   "execution_count": 19,
   "id": "6ac927a9",
   "metadata": {},
   "outputs": [],
   "source": [
    "df_sorted = df.sort_values(\"Age\")"
   ]
  },
  {
   "cell_type": "code",
   "execution_count": 20,
   "id": "24f42fc0",
   "metadata": {},
   "outputs": [],
   "source": [
    "df_sorted['c_age'] = df_sorted['Survived'].cumsum()"
   ]
  },
  {
   "cell_type": "code",
   "execution_count": 21,
   "id": "284cfca0",
   "metadata": {},
   "outputs": [
    {
     "data": {
      "text/plain": [
       "c_age\n",
       "1      1\n",
       "2      1\n",
       "3      1\n",
       "4      1\n",
       "5      1\n",
       "      ..\n",
       "148    1\n",
       "149    1\n",
       "150    1\n",
       "151    1\n",
       "152    1\n",
       "Name: Survived, Length: 152, dtype: int64"
      ]
     },
     "execution_count": 21,
     "metadata": {},
     "output_type": "execute_result"
    }
   ],
   "source": [
    "df_sorted.groupby('c_age')['Survived'].max()"
   ]
  },
  {
   "cell_type": "markdown",
   "id": "1b82ed54",
   "metadata": {},
   "source": [
    "# Find the Passengers with the Highest Fare in each Age Group:"
   ]
  },
  {
   "cell_type": "code",
   "execution_count": 22,
   "id": "9513b667",
   "metadata": {},
   "outputs": [],
   "source": [
    "# Create age bins and labels\n",
    "age_bins = [0, 18, 30, 50, 100]\n",
    "age_labels = ['0-18', '19-30', '31-50', '51+'] \n",
    "df['agegroup'] = pd.cut(df['Age'],bins=age_bins,labels=age_labels)"
   ]
  },
  {
   "cell_type": "code",
   "execution_count": 25,
   "id": "835f9b63",
   "metadata": {},
   "outputs": [
    {
     "data": {
      "text/html": [
       "<div>\n",
       "<style scoped>\n",
       "    .dataframe tbody tr th:only-of-type {\n",
       "        vertical-align: middle;\n",
       "    }\n",
       "\n",
       "    .dataframe tbody tr th {\n",
       "        vertical-align: top;\n",
       "    }\n",
       "\n",
       "    .dataframe thead th {\n",
       "        text-align: right;\n",
       "    }\n",
       "</style>\n",
       "<table border=\"1\" class=\"dataframe\">\n",
       "  <thead>\n",
       "    <tr style=\"text-align: right;\">\n",
       "      <th></th>\n",
       "      <th>PassengerId</th>\n",
       "      <th>Fare</th>\n",
       "    </tr>\n",
       "  </thead>\n",
       "  <tbody>\n",
       "    <tr>\n",
       "      <th>64</th>\n",
       "      <td>956</td>\n",
       "      <td>262.3750</td>\n",
       "    </tr>\n",
       "    <tr>\n",
       "      <th>53</th>\n",
       "      <td>945</td>\n",
       "      <td>263.0000</td>\n",
       "    </tr>\n",
       "    <tr>\n",
       "      <th>24</th>\n",
       "      <td>916</td>\n",
       "      <td>262.3750</td>\n",
       "    </tr>\n",
       "    <tr>\n",
       "      <th>343</th>\n",
       "      <td>1235</td>\n",
       "      <td>512.3292</td>\n",
       "    </tr>\n",
       "  </tbody>\n",
       "</table>\n",
       "</div>"
      ],
      "text/plain": [
       "     PassengerId      Fare\n",
       "64           956  262.3750\n",
       "53           945  263.0000\n",
       "24           916  262.3750\n",
       "343         1235  512.3292"
      ]
     },
     "execution_count": 25,
     "metadata": {},
     "output_type": "execute_result"
    }
   ],
   "source": [
    "df.loc[df.groupby('agegroup')['Fare'].idxmax()][['PassengerId','Fare']]"
   ]
  },
  {
   "cell_type": "markdown",
   "id": "e6bbfb57",
   "metadata": {},
   "source": [
    "# Calculate the Survival Rate for Different Family Sizes:"
   ]
  },
  {
   "cell_type": "code",
   "execution_count": 30,
   "id": "2fba4b11",
   "metadata": {},
   "outputs": [
    {
     "data": {
      "text/plain": [
       "FamilySize\n",
       "1     26.877470\n",
       "2     48.648649\n",
       "3     52.631579\n",
       "4     71.428571\n",
       "5     28.571429\n",
       "6     66.666667\n",
       "7     25.000000\n",
       "8     50.000000\n",
       "11    50.000000\n",
       "Name: Survived, dtype: float64"
      ]
     },
     "execution_count": 30,
     "metadata": {},
     "output_type": "execute_result"
    }
   ],
   "source": [
    "# Create a new column 'FamilySize' by summing 'SibSp' and 'Parch'\n",
    "df['FamilySize'] = df['SibSp'] + df['Parch'] + 1\n",
    "\n",
    "# Group the data by 'FamilySize' and calculate the survival rat\n",
    "df.groupby('FamilySize')['Survived'].mean() * 100"
   ]
  },
  {
   "cell_type": "code",
   "execution_count": null,
   "id": "6a2a99e6",
   "metadata": {},
   "outputs": [],
   "source": []
  },
  {
   "cell_type": "markdown",
   "id": "e019c27b",
   "metadata": {},
   "source": [
    "# Find the Most Common Ticket Number for each Passenger Name Prefix:"
   ]
  },
  {
   "cell_type": "code",
   "execution_count": 31,
   "id": "99c677ec",
   "metadata": {},
   "outputs": [
    {
     "data": {
      "text/plain": [
       "NamePrefix\n",
       "Col             113780\n",
       "Dona          PC 17758\n",
       "Dr               33638\n",
       "Master          347077\n",
       "Miss          PC 17608\n",
       "Mr          C.A. 31029\n",
       "Mrs       F.C.C. 13534\n",
       "Ms              364856\n",
       "Rev             237393\n",
       "Name: Ticket, dtype: object"
      ]
     },
     "execution_count": 31,
     "metadata": {},
     "output_type": "execute_result"
    }
   ],
   "source": [
    "# Extract passenger name prefix from 'Name'\n",
    "df['NamePrefix'] = df['Name'].str.extract(' ([A-Za-z]+)\\.')\n",
    "\n",
    "# Find the most common ticket number for each passenger name prefix\n",
    "df.groupby('NamePrefix')['Ticket'].apply(lambda x: x.mode().iloc[0])"
   ]
  },
  {
   "cell_type": "code",
   "execution_count": null,
   "id": "efa722ee",
   "metadata": {},
   "outputs": [],
   "source": []
  },
  {
   "cell_type": "markdown",
   "id": "17df4594",
   "metadata": {},
   "source": [
    "# Calculate the Median Fare for Passengers Travelling Alone vs. with Family:"
   ]
  },
  {
   "cell_type": "code",
   "execution_count": 70,
   "id": "0171ede0",
   "metadata": {},
   "outputs": [],
   "source": [
    "# Create a new column 'Alone' to indicate passengers travelling alone\n",
    "df['Alone'] = (df['SibSp'] + df['Parch']) == 0\n",
    "\n",
    "# Group the data by 'Alone' and calculate the median fare\n",
    "median_fare_by_alone = df.groupby('Alone')['Fare'].median()"
   ]
  },
  {
   "cell_type": "code",
   "execution_count": 71,
   "id": "2ef9b476",
   "metadata": {},
   "outputs": [
    {
     "data": {
      "text/plain": [
       "Alone\n",
       "False    26.00\n",
       "True      8.05\n",
       "Name: Fare, dtype: float64"
      ]
     },
     "execution_count": 71,
     "metadata": {},
     "output_type": "execute_result"
    }
   ],
   "source": [
    "median_fare_by_alone"
   ]
  },
  {
   "cell_type": "markdown",
   "id": "bd800dbb",
   "metadata": {},
   "source": [
    "# Find the Passenger with the Highest Fare in each Passenger Class:\n",
    "\n"
   ]
  },
  {
   "cell_type": "code",
   "execution_count": 73,
   "id": "5bbcc780",
   "metadata": {},
   "outputs": [
    {
     "data": {
      "text/html": [
       "<div>\n",
       "<style scoped>\n",
       "    .dataframe tbody tr th:only-of-type {\n",
       "        vertical-align: middle;\n",
       "    }\n",
       "\n",
       "    .dataframe tbody tr th {\n",
       "        vertical-align: top;\n",
       "    }\n",
       "\n",
       "    .dataframe thead th {\n",
       "        text-align: right;\n",
       "    }\n",
       "</style>\n",
       "<table border=\"1\" class=\"dataframe\">\n",
       "  <thead>\n",
       "    <tr style=\"text-align: right;\">\n",
       "      <th></th>\n",
       "      <th>Pclass</th>\n",
       "      <th>Fare</th>\n",
       "    </tr>\n",
       "  </thead>\n",
       "  <tbody>\n",
       "    <tr>\n",
       "      <th>343</th>\n",
       "      <td>1</td>\n",
       "      <td>512.3292</td>\n",
       "    </tr>\n",
       "    <tr>\n",
       "      <th>212</th>\n",
       "      <td>2</td>\n",
       "      <td>73.5000</td>\n",
       "    </tr>\n",
       "    <tr>\n",
       "      <th>188</th>\n",
       "      <td>3</td>\n",
       "      <td>69.5500</td>\n",
       "    </tr>\n",
       "  </tbody>\n",
       "</table>\n",
       "</div>"
      ],
      "text/plain": [
       "     Pclass      Fare\n",
       "343       1  512.3292\n",
       "212       2   73.5000\n",
       "188       3   69.5500"
      ]
     },
     "execution_count": 73,
     "metadata": {},
     "output_type": "execute_result"
    }
   ],
   "source": [
    "# Find the passenger with the highest fare in each passenger class\n",
    "df.loc[df.groupby('Pclass')['Fare'].idxmax()][['Pclass','Fare']]"
   ]
  },
  {
   "cell_type": "markdown",
   "id": "48dada54",
   "metadata": {},
   "source": [
    "# Calculate the Average Fare for each Combination of Passenger Class and Embarked Port:"
   ]
  },
  {
   "cell_type": "code",
   "execution_count": 74,
   "id": "eea87461",
   "metadata": {},
   "outputs": [],
   "source": [
    "# Group the data by 'Pclass' and 'Embarked' and calculate the average fare\n",
    "average_fare_by_class_embarked = df.groupby(['Pclass', 'Embarked'])['Fare'].mean()"
   ]
  },
  {
   "cell_type": "code",
   "execution_count": 75,
   "id": "ddf383cb",
   "metadata": {},
   "outputs": [
    {
     "data": {
      "text/plain": [
       "Pclass  Embarked\n",
       "1       C           110.073511\n",
       "        Q            90.000000\n",
       "        S            76.677504\n",
       "2       C            20.120445\n",
       "        Q            11.273950\n",
       "        S            23.056090\n",
       "3       C            10.658700\n",
       "        Q             8.998985\n",
       "        S            13.913030\n",
       "Name: Fare, dtype: float64"
      ]
     },
     "execution_count": 75,
     "metadata": {},
     "output_type": "execute_result"
    }
   ],
   "source": [
    "average_fare_by_class_embarked"
   ]
  },
  {
   "cell_type": "code",
   "execution_count": null,
   "id": "ab363911",
   "metadata": {},
   "outputs": [],
   "source": []
  }
 ],
 "metadata": {
  "kernelspec": {
   "display_name": "Python 3 (ipykernel)",
   "language": "python",
   "name": "python3"
  },
  "language_info": {
   "codemirror_mode": {
    "name": "ipython",
    "version": 3
   },
   "file_extension": ".py",
   "mimetype": "text/x-python",
   "name": "python",
   "nbconvert_exporter": "python",
   "pygments_lexer": "ipython3",
   "version": "3.9.12"
  }
 },
 "nbformat": 4,
 "nbformat_minor": 5
}
