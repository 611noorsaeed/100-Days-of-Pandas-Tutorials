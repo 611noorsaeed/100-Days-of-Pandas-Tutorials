{
 "cells": [
  {
   "cell_type": "code",
   "execution_count": 1,
   "id": "6f362078",
   "metadata": {},
   "outputs": [],
   "source": [
    "import pandas as pd\n",
    "\n",
    "cust = pd.read_excel(\"customer_input.xlsx\")"
   ]
  },
  {
   "cell_type": "code",
   "execution_count": 2,
   "id": "17ac3096",
   "metadata": {},
   "outputs": [
    {
     "data": {
      "text/html": [
       "<div>\n",
       "<style scoped>\n",
       "    .dataframe tbody tr th:only-of-type {\n",
       "        vertical-align: middle;\n",
       "    }\n",
       "\n",
       "    .dataframe tbody tr th {\n",
       "        vertical-align: top;\n",
       "    }\n",
       "\n",
       "    .dataframe thead th {\n",
       "        text-align: right;\n",
       "    }\n",
       "</style>\n",
       "<table border=\"1\" class=\"dataframe\">\n",
       "  <thead>\n",
       "    <tr style=\"text-align: right;\">\n",
       "      <th></th>\n",
       "      <th>CustomerID</th>\n",
       "      <th>CustomerName</th>\n",
       "      <th>Age</th>\n",
       "      <th>Gender</th>\n",
       "      <th>Billing</th>\n",
       "      <th>Balance</th>\n",
       "      <th>#of Payments</th>\n",
       "      <th>BestTimeContact</th>\n",
       "      <th>Missed Payments</th>\n",
       "      <th>Job</th>\n",
       "      <th>Student</th>\n",
       "    </tr>\n",
       "  </thead>\n",
       "  <tbody>\n",
       "    <tr>\n",
       "      <th>0</th>\n",
       "      <td>1</td>\n",
       "      <td>Customer - 1</td>\n",
       "      <td>46</td>\n",
       "      <td>M</td>\n",
       "      <td>N</td>\n",
       "      <td>25000</td>\n",
       "      <td>4</td>\n",
       "      <td>Morning</td>\n",
       "      <td>0</td>\n",
       "      <td>1</td>\n",
       "      <td>0</td>\n",
       "    </tr>\n",
       "    <tr>\n",
       "      <th>1</th>\n",
       "      <td>2</td>\n",
       "      <td>Customer - 2</td>\n",
       "      <td>65</td>\n",
       "      <td>F</td>\n",
       "      <td>Y</td>\n",
       "      <td>500</td>\n",
       "      <td>0</td>\n",
       "      <td>Morning</td>\n",
       "      <td>0</td>\n",
       "      <td>1</td>\n",
       "      <td>0</td>\n",
       "    </tr>\n",
       "    <tr>\n",
       "      <th>2</th>\n",
       "      <td>3</td>\n",
       "      <td>Customer - 3</td>\n",
       "      <td>73</td>\n",
       "      <td>M</td>\n",
       "      <td>N</td>\n",
       "      <td>2000</td>\n",
       "      <td>0</td>\n",
       "      <td>Evening</td>\n",
       "      <td>0</td>\n",
       "      <td>0</td>\n",
       "      <td>0</td>\n",
       "    </tr>\n",
       "  </tbody>\n",
       "</table>\n",
       "</div>"
      ],
      "text/plain": [
       "   CustomerID  CustomerName  Age Gender Billing  Balance  #of Payments  \\\n",
       "0           1  Customer - 1   46      M       N    25000             4   \n",
       "1           2  Customer - 2   65      F       Y      500             0   \n",
       "2           3  Customer - 3   73      M       N     2000             0   \n",
       "\n",
       "  BestTimeContact  Missed Payments  Job  Student  \n",
       "0         Morning                0    1        0  \n",
       "1         Morning                0    1        0  \n",
       "2         Evening                0    0        0  "
      ]
     },
     "execution_count": 2,
     "metadata": {},
     "output_type": "execute_result"
    }
   ],
   "source": [
    "cust.head(3)"
   ]
  },
  {
   "cell_type": "markdown",
   "id": "b5b40f6d",
   "metadata": {},
   "source": [
    "# Group by 'Gender' and calculate the average age for each gender:"
   ]
  },
  {
   "cell_type": "code",
   "execution_count": 11,
   "id": "c9ac76b1",
   "metadata": {},
   "outputs": [
    {
     "data": {
      "text/plain": [
       "Gender\n",
       "F    52.142857\n",
       "M    44.875000\n",
       "Name: Age, dtype: float64"
      ]
     },
     "execution_count": 11,
     "metadata": {},
     "output_type": "execute_result"
    }
   ],
   "source": [
    "cust.groupby('Gender')['Age'].mean()"
   ]
  },
  {
   "cell_type": "markdown",
   "id": "6d75cf8a",
   "metadata": {},
   "source": [
    "# Group by 'Billing' and calculate the total balance for each billing type:"
   ]
  },
  {
   "cell_type": "code",
   "execution_count": 12,
   "id": "4dd67cb5",
   "metadata": {},
   "outputs": [
    {
     "data": {
      "text/plain": [
       "Billing\n",
       "N    38970\n",
       "Y    78500\n",
       "Name: Balance, dtype: int64"
      ]
     },
     "execution_count": 12,
     "metadata": {},
     "output_type": "execute_result"
    }
   ],
   "source": [
    "cust.groupby('Billing')['Balance'].sum()"
   ]
  },
  {
   "cell_type": "markdown",
   "id": "ae930b2b",
   "metadata": {},
   "source": [
    "# Group by 'BestTimeContact' and count the number of customers for each contact time:"
   ]
  },
  {
   "cell_type": "code",
   "execution_count": 13,
   "id": "b69909b6",
   "metadata": {},
   "outputs": [
    {
     "data": {
      "text/plain": [
       "BestTimeContact\n",
       "Evening    9\n",
       "Morning    6\n",
       "Name: CustomerID, dtype: int64"
      ]
     },
     "execution_count": 13,
     "metadata": {},
     "output_type": "execute_result"
    }
   ],
   "source": [
    "cust.groupby(\"BestTimeContact\")['CustomerID'].count()"
   ]
  },
  {
   "cell_type": "markdown",
   "id": "8a155e96",
   "metadata": {},
   "source": [
    "# Group by 'Job' and calculate the maximum age for each job type:"
   ]
  },
  {
   "cell_type": "code",
   "execution_count": 14,
   "id": "a4ef3d7a",
   "metadata": {},
   "outputs": [
    {
     "data": {
      "text/plain": [
       "Job\n",
       "0    73\n",
       "1    65\n",
       "Name: Age, dtype: int64"
      ]
     },
     "execution_count": 14,
     "metadata": {},
     "output_type": "execute_result"
    }
   ],
   "source": [
    "cust.groupby(\"Job\")['Age'].max()"
   ]
  },
  {
   "cell_type": "markdown",
   "id": "6413c2e6",
   "metadata": {},
   "source": [
    "# Group by multiple columns and calculate the average balance for each combination of 'Billing' and 'Student' status:"
   ]
  },
  {
   "cell_type": "code",
   "execution_count": 15,
   "id": "e794f065",
   "metadata": {},
   "outputs": [
    {
     "data": {
      "text/plain": [
       "Billing  Student\n",
       "N        0           5502.857143\n",
       "         1            450.000000\n",
       "Y        0          11583.333333\n",
       "         1           9000.000000\n",
       "Name: Balance, dtype: float64"
      ]
     },
     "execution_count": 15,
     "metadata": {},
     "output_type": "execute_result"
    }
   ],
   "source": [
    "cust.groupby(['Billing','Student'])['Balance'].mean()"
   ]
  },
  {
   "cell_type": "markdown",
   "id": "72040bf5",
   "metadata": {},
   "source": [
    "# Group by 'Billing' and 'Gender', then calculate the total balance for each combination:"
   ]
  },
  {
   "cell_type": "code",
   "execution_count": 16,
   "id": "c608f314",
   "metadata": {},
   "outputs": [
    {
     "data": {
      "text/plain": [
       "Billing  Gender\n",
       "N        F          5400\n",
       "         M         33570\n",
       "Y        F          8000\n",
       "         M         70500\n",
       "Name: Balance, dtype: int64"
      ]
     },
     "execution_count": 16,
     "metadata": {},
     "output_type": "execute_result"
    }
   ],
   "source": [
    "cust.groupby(['Billing','Gender'])['Balance'].sum()"
   ]
  },
  {
   "cell_type": "markdown",
   "id": "b41abb4b",
   "metadata": {},
   "source": [
    "# Group by 'BestTimeContact' and 'Gender', then calculate the average age for each combination:"
   ]
  },
  {
   "cell_type": "code",
   "execution_count": 17,
   "id": "0985a9cb",
   "metadata": {},
   "outputs": [
    {
     "data": {
      "text/plain": [
       "BestTimeContact  Gender\n",
       "Evening          F         54.500000\n",
       "                 M         48.800000\n",
       "Morning          F         49.000000\n",
       "                 M         38.333333\n",
       "Name: Age, dtype: float64"
      ]
     },
     "execution_count": 17,
     "metadata": {},
     "output_type": "execute_result"
    }
   ],
   "source": [
    "cust.groupby(['BestTimeContact','Gender'])['Age'].mean()"
   ]
  },
  {
   "cell_type": "markdown",
   "id": "9c88be88",
   "metadata": {},
   "source": [
    "# Group by 'Job' and 'Billing', then calculate the median balance for each combination:"
   ]
  },
  {
   "cell_type": "code",
   "execution_count": 18,
   "id": "dd5d31e6",
   "metadata": {},
   "outputs": [
    {
     "data": {
      "text/plain": [
       "Job  Billing\n",
       "0    N          2000.0\n",
       "     Y          3750.0\n",
       "1    N          2000.0\n",
       "     Y          9000.0\n",
       "Name: Balance, dtype: float64"
      ]
     },
     "execution_count": 18,
     "metadata": {},
     "output_type": "execute_result"
    }
   ],
   "source": [
    "cust.groupby(['Job','Billing'])['Balance'].median()"
   ]
  },
  {
   "cell_type": "markdown",
   "id": "fb97f18d",
   "metadata": {},
   "source": [
    "# Group by 'Student' status and 'Missed Payments', then count the number of customers in each category:"
   ]
  },
  {
   "cell_type": "code",
   "execution_count": 19,
   "id": "516caa18",
   "metadata": {},
   "outputs": [
    {
     "data": {
      "text/plain": [
       "Student  Missed Payments\n",
       "0        0                  10\n",
       "         1                   3\n",
       "1        0                   2\n",
       "Name: CustomerID, dtype: int64"
      ]
     },
     "execution_count": 19,
     "metadata": {},
     "output_type": "execute_result"
    }
   ],
   "source": [
    "cust.groupby(['Student','Missed Payments'])['CustomerID'].count()"
   ]
  },
  {
   "cell_type": "code",
   "execution_count": null,
   "id": "b6598edb",
   "metadata": {},
   "outputs": [],
   "source": []
  }
 ],
 "metadata": {
  "kernelspec": {
   "display_name": "Python 3 (ipykernel)",
   "language": "python",
   "name": "python3"
  },
  "language_info": {
   "codemirror_mode": {
    "name": "ipython",
    "version": 3
   },
   "file_extension": ".py",
   "mimetype": "text/x-python",
   "name": "python",
   "nbconvert_exporter": "python",
   "pygments_lexer": "ipython3",
   "version": "3.9.12"
  }
 },
 "nbformat": 4,
 "nbformat_minor": 5
}
