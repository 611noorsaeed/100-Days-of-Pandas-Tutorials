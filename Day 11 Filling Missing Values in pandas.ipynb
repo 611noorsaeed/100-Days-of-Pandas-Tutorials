{
 "cells": [
  {
   "cell_type": "code",
   "execution_count": 1,
   "id": "09dcbe55",
   "metadata": {},
   "outputs": [],
   "source": [
    "import pandas as pd\n",
    "import numpy as np"
   ]
  },
  {
   "cell_type": "code",
   "execution_count": 2,
   "id": "90a219ec",
   "metadata": {},
   "outputs": [],
   "source": [
    "data = pd.read_csv('data.csv')"
   ]
  },
  {
   "cell_type": "code",
   "execution_count": 3,
   "id": "3d1bd66a",
   "metadata": {},
   "outputs": [
    {
     "data": {
      "text/html": [
       "<div>\n",
       "<style scoped>\n",
       "    .dataframe tbody tr th:only-of-type {\n",
       "        vertical-align: middle;\n",
       "    }\n",
       "\n",
       "    .dataframe tbody tr th {\n",
       "        vertical-align: top;\n",
       "    }\n",
       "\n",
       "    .dataframe thead th {\n",
       "        text-align: right;\n",
       "    }\n",
       "</style>\n",
       "<table border=\"1\" class=\"dataframe\">\n",
       "  <thead>\n",
       "    <tr style=\"text-align: right;\">\n",
       "      <th></th>\n",
       "      <th>Unnamed: 0</th>\n",
       "      <th>A</th>\n",
       "      <th>B</th>\n",
       "      <th>C</th>\n",
       "      <th>D</th>\n",
       "    </tr>\n",
       "  </thead>\n",
       "  <tbody>\n",
       "    <tr>\n",
       "      <th>0</th>\n",
       "      <td>0</td>\n",
       "      <td>0.658546</td>\n",
       "      <td>3</td>\n",
       "      <td>X</td>\n",
       "      <td>0.546451</td>\n",
       "    </tr>\n",
       "    <tr>\n",
       "      <th>1</th>\n",
       "      <td>1</td>\n",
       "      <td>0.091238</td>\n",
       "      <td>3</td>\n",
       "      <td>Y</td>\n",
       "      <td>0.071254</td>\n",
       "    </tr>\n",
       "    <tr>\n",
       "      <th>2</th>\n",
       "      <td>2</td>\n",
       "      <td>0.310355</td>\n",
       "      <td>2</td>\n",
       "      <td>Y</td>\n",
       "      <td>-2.024788</td>\n",
       "    </tr>\n",
       "    <tr>\n",
       "      <th>3</th>\n",
       "      <td>3</td>\n",
       "      <td>0.618982</td>\n",
       "      <td>3</td>\n",
       "      <td>Y</td>\n",
       "      <td>1.499762</td>\n",
       "    </tr>\n",
       "    <tr>\n",
       "      <th>4</th>\n",
       "      <td>4</td>\n",
       "      <td>0.923229</td>\n",
       "      <td>1</td>\n",
       "      <td>Z</td>\n",
       "      <td>-0.980191</td>\n",
       "    </tr>\n",
       "  </tbody>\n",
       "</table>\n",
       "</div>"
      ],
      "text/plain": [
       "   Unnamed: 0         A  B  C         D\n",
       "0           0  0.658546  3  X  0.546451\n",
       "1           1  0.091238  3  Y  0.071254\n",
       "2           2  0.310355  2  Y -2.024788\n",
       "3           3  0.618982  3  Y  1.499762\n",
       "4           4  0.923229  1  Z -0.980191"
      ]
     },
     "execution_count": 3,
     "metadata": {},
     "output_type": "execute_result"
    }
   ],
   "source": [
    "data.head()"
   ]
  },
  {
   "cell_type": "code",
   "execution_count": 4,
   "id": "0f7db5d1",
   "metadata": {},
   "outputs": [
    {
     "data": {
      "text/plain": [
       "Unnamed: 0    0\n",
       "A             0\n",
       "B             0\n",
       "C             0\n",
       "D             0\n",
       "dtype: int64"
      ]
     },
     "execution_count": 4,
     "metadata": {},
     "output_type": "execute_result"
    }
   ],
   "source": [
    "data.isnull().sum()"
   ]
  },
  {
   "cell_type": "markdown",
   "id": "59637a5b",
   "metadata": {},
   "source": [
    "# Handling missing data\n",
    "# You can fill missing values with a specific value, like 0"
   ]
  },
  {
   "cell_type": "code",
   "execution_count": 12,
   "id": "afb9da5c",
   "metadata": {},
   "outputs": [],
   "source": [
    "df_filled = data.fillna(0)"
   ]
  },
  {
   "cell_type": "markdown",
   "id": "1aea48ac",
   "metadata": {},
   "source": [
    "# Or you can drop rows with missing values\n"
   ]
  },
  {
   "cell_type": "code",
   "execution_count": 13,
   "id": "ca638d97",
   "metadata": {},
   "outputs": [],
   "source": [
    "df_dropped = data.dropna()"
   ]
  },
  {
   "cell_type": "markdown",
   "id": "f26c3cff",
   "metadata": {},
   "source": [
    "# Forward Fill (ffill) and Backward Fill (bfill):\n",
    "Forward fill (ffill) replaces missing values with the previous non-missing value in the column. (10,20,nan,30) 20,20...                               \n",
    "Backward fill (bfill) replaces missing values with the next non-missing value in the column. (10,20,nan,30)  30,30..."
   ]
  },
  {
   "cell_type": "code",
   "execution_count": 15,
   "id": "517a05e9",
   "metadata": {},
   "outputs": [],
   "source": [
    "f_filled_df = data.fillna(method='ffill')"
   ]
  },
  {
   "cell_type": "code",
   "execution_count": 16,
   "id": "47fdeaeb",
   "metadata": {},
   "outputs": [],
   "source": [
    "b_filled_df = data.fillna(method='bfill')"
   ]
  },
  {
   "cell_type": "markdown",
   "id": "c8442303",
   "metadata": {},
   "source": [
    "# Mean/Median/Mode Imputation:\n",
    "Fill missing values with the mean,                                 \n",
    "median,                           \n",
    "mode."
   ]
  },
  {
   "cell_type": "code",
   "execution_count": 51,
   "id": "c0d3882f",
   "metadata": {},
   "outputs": [],
   "source": [
    "\n",
    "# Select only numeric columns\n",
    "numeric_columns = df.select_dtypes(include=[np.number])\n",
    "\n",
    "# Calculate the mean for each numeric column\n",
    "mean_values = numeric_columns.median()\n",
    "\n",
    "# Fill missing values in numeric columns with their respective means\n",
    "numeric_columns.fillna(mean_values, inplace=True)"
   ]
  },
  {
   "cell_type": "markdown",
   "id": "670b0acf",
   "metadata": {},
   "source": [
    "# Custom Imputation:\n",
    "You can fill missing values with a custom value or a value based on your domain knowledge."
   ]
  },
  {
   "cell_type": "code",
   "execution_count": 28,
   "id": "fcdb80dd",
   "metadata": {},
   "outputs": [],
   "source": [
    "# custom filling\n",
    "data.fillna(-1)\n",
    "# Fill with a Value Based on Domain Knowledge\n",
    "a = data['A'].fillna(10,inplace=True)"
   ]
  },
  {
   "cell_type": "markdown",
   "id": "2a317563",
   "metadata": {},
   "source": [
    "# Using fillna with method='pad':\n",
    "Similar to forward fill, this method replaces missing values with the previous non-missing value in the column."
   ]
  },
  {
   "cell_type": "code",
   "execution_count": 30,
   "id": "9337ed3c",
   "metadata": {},
   "outputs": [],
   "source": [
    "# Fill missing values using 'pad' method (same as forward fill)\n",
    "df_pad_filled = data.fillna(method='pad')"
   ]
  },
  {
   "cell_type": "markdown",
   "id": "5aa3cdc8",
   "metadata": {},
   "source": [
    "# Using fillna with a Function:\n",
    "You can create a custom function to fill missing values based on your criteria."
   ]
  },
  {
   "cell_type": "code",
   "execution_count": 31,
   "id": "f003a3bb",
   "metadata": {},
   "outputs": [
    {
     "data": {
      "text/html": [
       "<div>\n",
       "<style scoped>\n",
       "    .dataframe tbody tr th:only-of-type {\n",
       "        vertical-align: middle;\n",
       "    }\n",
       "\n",
       "    .dataframe tbody tr th {\n",
       "        vertical-align: top;\n",
       "    }\n",
       "\n",
       "    .dataframe thead th {\n",
       "        text-align: right;\n",
       "    }\n",
       "</style>\n",
       "<table border=\"1\" class=\"dataframe\">\n",
       "  <thead>\n",
       "    <tr style=\"text-align: right;\">\n",
       "      <th></th>\n",
       "      <th>A</th>\n",
       "      <th>B</th>\n",
       "      <th>C</th>\n",
       "      <th>D</th>\n",
       "    </tr>\n",
       "  </thead>\n",
       "  <tbody>\n",
       "    <tr>\n",
       "      <th>0</th>\n",
       "      <td>0.658546</td>\n",
       "      <td>3.0</td>\n",
       "      <td>X</td>\n",
       "      <td>0.546451</td>\n",
       "    </tr>\n",
       "    <tr>\n",
       "      <th>1</th>\n",
       "      <td>0.091238</td>\n",
       "      <td>3.0</td>\n",
       "      <td>Y</td>\n",
       "      <td>0.071254</td>\n",
       "    </tr>\n",
       "    <tr>\n",
       "      <th>2</th>\n",
       "      <td>0.310355</td>\n",
       "      <td>2.0</td>\n",
       "      <td>Y</td>\n",
       "      <td>-2.024788</td>\n",
       "    </tr>\n",
       "    <tr>\n",
       "      <th>3</th>\n",
       "      <td>10.000000</td>\n",
       "      <td>&lt;function &lt;lambda&gt; at 0x000001AE9DB67820&gt;</td>\n",
       "      <td>&lt;function &lt;lambda&gt; at 0x000001AE9DB67820&gt;</td>\n",
       "      <td>1.499762</td>\n",
       "    </tr>\n",
       "    <tr>\n",
       "      <th>4</th>\n",
       "      <td>0.923229</td>\n",
       "      <td>1.0</td>\n",
       "      <td>Z</td>\n",
       "      <td>-0.980191</td>\n",
       "    </tr>\n",
       "    <tr>\n",
       "      <th>...</th>\n",
       "      <td>...</td>\n",
       "      <td>...</td>\n",
       "      <td>...</td>\n",
       "      <td>...</td>\n",
       "    </tr>\n",
       "    <tr>\n",
       "      <th>95</th>\n",
       "      <td>0.182990</td>\n",
       "      <td>2.0</td>\n",
       "      <td>Z</td>\n",
       "      <td>-1.660145</td>\n",
       "    </tr>\n",
       "    <tr>\n",
       "      <th>96</th>\n",
       "      <td>0.556930</td>\n",
       "      <td>3.0</td>\n",
       "      <td>Y</td>\n",
       "      <td>0.385849</td>\n",
       "    </tr>\n",
       "    <tr>\n",
       "      <th>97</th>\n",
       "      <td>0.820939</td>\n",
       "      <td>3.0</td>\n",
       "      <td>X</td>\n",
       "      <td>-0.813855</td>\n",
       "    </tr>\n",
       "    <tr>\n",
       "      <th>98</th>\n",
       "      <td>0.326961</td>\n",
       "      <td>3.0</td>\n",
       "      <td>Y</td>\n",
       "      <td>0.795704</td>\n",
       "    </tr>\n",
       "    <tr>\n",
       "      <th>99</th>\n",
       "      <td>0.719620</td>\n",
       "      <td>1.0</td>\n",
       "      <td>X</td>\n",
       "      <td>2.751376</td>\n",
       "    </tr>\n",
       "  </tbody>\n",
       "</table>\n",
       "<p>100 rows × 4 columns</p>\n",
       "</div>"
      ],
      "text/plain": [
       "            A                                          B  \\\n",
       "0    0.658546                                        3.0   \n",
       "1    0.091238                                        3.0   \n",
       "2    0.310355                                        2.0   \n",
       "3   10.000000  <function <lambda> at 0x000001AE9DB67820>   \n",
       "4    0.923229                                        1.0   \n",
       "..        ...                                        ...   \n",
       "95   0.182990                                        2.0   \n",
       "96   0.556930                                        3.0   \n",
       "97   0.820939                                        3.0   \n",
       "98   0.326961                                        3.0   \n",
       "99   0.719620                                        1.0   \n",
       "\n",
       "                                            C         D  \n",
       "0                                           X  0.546451  \n",
       "1                                           Y  0.071254  \n",
       "2                                           Y -2.024788  \n",
       "3   <function <lambda> at 0x000001AE9DB67820>  1.499762  \n",
       "4                                           Z -0.980191  \n",
       "..                                        ...       ...  \n",
       "95                                          Z -1.660145  \n",
       "96                                          Y  0.385849  \n",
       "97                                          X -0.813855  \n",
       "98                                          Y  0.795704  \n",
       "99                                          X  2.751376  \n",
       "\n",
       "[100 rows x 4 columns]"
      ]
     },
     "execution_count": 31,
     "metadata": {},
     "output_type": "execute_result"
    }
   ],
   "source": [
    "data.fillna(lambda x: x.mean() if x.name==\"A\" else x.mode.loc[0])"
   ]
  },
  {
   "cell_type": "code",
   "execution_count": null,
   "id": "046f9248",
   "metadata": {},
   "outputs": [],
   "source": []
  },
  {
   "cell_type": "markdown",
   "id": "09c4d052",
   "metadata": {},
   "source": [
    "# Interpolation:\n",
    "Interpolation methods estimate missing values based on the values before and after the missing data point.                                          \n",
    "Linear interpolation is a common method, but you can use others like polynomial or spline interpolation."
   ]
  },
  {
   "cell_type": "markdown",
   "id": "d2642a01",
   "metadata": {},
   "source": [
    "# Linear Interpolation"
   ]
  },
  {
   "cell_type": "code",
   "execution_count": 18,
   "id": "352eedf3",
   "metadata": {},
   "outputs": [],
   "source": [
    "linear_df = data.interpolate(method='linear')"
   ]
  },
  {
   "cell_type": "markdown",
   "id": "b73a07d7",
   "metadata": {},
   "source": [
    "# Polynomial Interpolation (e.g., degree 2)"
   ]
  },
  {
   "cell_type": "code",
   "execution_count": 20,
   "id": "44cf362d",
   "metadata": {},
   "outputs": [],
   "source": [
    "poly_df = data.interpolate(method='polynomial',order=2)"
   ]
  },
  {
   "cell_type": "code",
   "execution_count": 21,
   "id": "ed5e4f3b",
   "metadata": {},
   "outputs": [
    {
     "data": {
      "text/plain": [
       "A     0\n",
       "B     0\n",
       "C    20\n",
       "D     0\n",
       "dtype: int64"
      ]
     },
     "execution_count": 21,
     "metadata": {},
     "output_type": "execute_result"
    }
   ],
   "source": [
    "poly_df.isnull().sum()"
   ]
  },
  {
   "cell_type": "markdown",
   "id": "7e35c859",
   "metadata": {},
   "source": [
    "# Spline Interpolation"
   ]
  },
  {
   "cell_type": "code",
   "execution_count": 22,
   "id": "a1e6da7b",
   "metadata": {},
   "outputs": [],
   "source": [
    "spline = data.interpolate(method=\"spline\",order=2)"
   ]
  },
  {
   "cell_type": "markdown",
   "id": "4bcf14d7",
   "metadata": {},
   "source": [
    "# Custom python code"
   ]
  },
  {
   "cell_type": "code",
   "execution_count": 45,
   "id": "72683796",
   "metadata": {},
   "outputs": [
    {
     "name": "stdout",
     "output_type": "stream",
     "text": [
      "   Unnamed: 0    A    B  C\n",
      "0           0  1.0 -1.0  1\n",
      "1           1  2.0  2.0  2\n",
      "2           2  3.0  3.0  3\n",
      "3           3  4.0  4.0  4\n",
      "4           4  5.0  5.0  5\n"
     ]
    }
   ],
   "source": [
    "import pandas as pd\n",
    "import numpy as np\n",
    "\n",
    "df = pd.read_csv('data1.csv')\n",
    "# Custom function to fill missing values in column 'A' with the mean of the column\n",
    "def fill_missing_with_mean(df, column_name):\n",
    "    mean_value = df[column_name].mean()\n",
    "    df[column_name].fillna(mean_value, inplace=True)\n",
    "\n",
    "# Apply the custom function to fill missing values in column 'A'\n",
    "fill_missing_with_mean(df, 'A')\n"
   ]
  },
  {
   "cell_type": "code",
   "execution_count": 46,
   "id": "7a52a42e",
   "metadata": {},
   "outputs": [],
   "source": [
    "# Custom function to fill missing values in column 'B' with a specific value (e.g., -1)\n",
    "def fill_missing_with_value(df, column_name, value):\n",
    "    df[column_name].fillna(value, inplace=True)\n",
    "# Apply the custom function to fill missing values in column 'B'\n",
    "fill_missing_with_value(df, 'B', -1)"
   ]
  },
  {
   "cell_type": "code",
   "execution_count": 42,
   "id": "4266ac37",
   "metadata": {},
   "outputs": [
    {
     "data": {
      "text/plain": [
       "A    0\n",
       "B    0\n",
       "C    0\n",
       "D    0\n",
       "dtype: int64"
      ]
     },
     "execution_count": 42,
     "metadata": {},
     "output_type": "execute_result"
    }
   ],
   "source": [
    "# Custom function to drop rows with any missing values\n",
    "def drop_rows_with_missing(df):\n",
    "    df.dropna(axis=0, how='any', inplace=True)\n",
    "\n",
    "# Apply the custom function to drop rows with missing values\n",
    "drop_rows_with_missing(df)"
   ]
  },
  {
   "cell_type": "code",
   "execution_count": 47,
   "id": "bc322d3f",
   "metadata": {},
   "outputs": [],
   "source": [
    "# Custom function to fill missing values in column 'C' with the mode of the column\n",
    "def fill_missing_with_mode(df, column_name):\n",
    "    mode_value = df[column_name].mode().iloc[0]\n",
    "    df[column_name].fillna(mode_value, inplace=True)\n",
    "\n",
    "# Apply the custom function to fill missing values in column 'C'\n",
    "fill_missing_with_mode(df, 'C')\n"
   ]
  },
  {
   "cell_type": "code",
   "execution_count": null,
   "id": "df78049c",
   "metadata": {},
   "outputs": [],
   "source": []
  }
 ],
 "metadata": {
  "kernelspec": {
   "display_name": "Python 3 (ipykernel)",
   "language": "python",
   "name": "python3"
  },
  "language_info": {
   "codemirror_mode": {
    "name": "ipython",
    "version": 3
   },
   "file_extension": ".py",
   "mimetype": "text/x-python",
   "name": "python",
   "nbconvert_exporter": "python",
   "pygments_lexer": "ipython3",
   "version": "3.9.12"
  }
 },
 "nbformat": 4,
 "nbformat_minor": 5
}
